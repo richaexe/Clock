{
 "cells": [
  {
   "cell_type": "markdown",
   "id": "ccd0f46b",
   "metadata": {},
   "source": [
    "# CLOCK "
   ]
  },
  {
   "cell_type": "code",
   "execution_count": 1,
   "id": "c4d86839",
   "metadata": {},
   "outputs": [],
   "source": [
    "from tkinter import*\n",
    "from tkinter.ttk import*\n",
    "from time import strftime"
   ]
  },
  {
   "cell_type": "code",
   "execution_count": null,
   "id": "211379d2",
   "metadata": {},
   "outputs": [],
   "source": [
    "root=Tk()\n",
    "root.title('Clock')\n",
    "\n",
    "def time():\n",
    "    string = strftime('%H:%M:%S %p')\n",
    "    label.config(text = string)\n",
    "    label.after(1000, time)\n",
    "    \n",
    "label = Label(root,font = ('ds-digital', 80),background = \"black\", foreground = \"white\")\n",
    "label.pack(anchor = 'center')\n",
    "time()\n",
    "mainloop()"
   ]
  }
 ],
 "metadata": {
  "kernelspec": {
   "display_name": "Python 3",
   "language": "python",
   "name": "python3"
  },
  "language_info": {
   "codemirror_mode": {
    "name": "ipython",
    "version": 3
   },
   "file_extension": ".py",
   "mimetype": "text/x-python",
   "name": "python",
   "nbconvert_exporter": "python",
   "pygments_lexer": "ipython3",
   "version": "3.8.8"
  }
 },
 "nbformat": 4,
 "nbformat_minor": 5
}
